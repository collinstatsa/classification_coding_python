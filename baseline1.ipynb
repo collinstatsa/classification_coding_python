{
  "cells": [
    {
      "cell_type": "markdown",
      "metadata": {
        "id": "view-in-github",
        "colab_type": "text"
      },
      "source": [
        "<a href=\"https://colab.research.google.com/github/collinstatsa/myresearch/blob/main/baseline1.ipynb\" target=\"_parent\"><img src=\"https://colab.research.google.com/assets/colab-badge.svg\" alt=\"Open In Colab\"/></a>"
      ]
    },
    {
      "cell_type": "markdown",
      "id": "cac6b004",
      "metadata": {
        "id": "cac6b004"
      },
      "source": [
        "Coding for classification on python"
      ]
    },
    {
      "cell_type": "code",
      "execution_count": null,
      "id": "d77871d5",
      "metadata": {
        "id": "d77871d5"
      },
      "outputs": [],
      "source": [
        "import numpy as np\n",
        "import pandas as pd"
      ]
    },
    {
      "cell_type": "code",
      "execution_count": null,
      "id": "a36f35d3",
      "metadata": {
        "id": "a36f35d3"
      },
      "outputs": [],
      "source": [
        "weekly=pd.read_csv('weekly.csv')"
      ]
    },
    {
      "cell_type": "code",
      "execution_count": null,
      "id": "082974a4",
      "metadata": {
        "id": "082974a4",
        "outputId": "f46f2336-ebe6-47bd-b975-725de245632f"
      },
      "outputs": [
        {
          "data": {
            "text/plain": [
              "pandas.core.frame.DataFrame"
            ]
          },
          "execution_count": 5,
          "metadata": {},
          "output_type": "execute_result"
        }
      ],
      "source": [
        "type(weekly)"
      ]
    },
    {
      "cell_type": "code",
      "execution_count": null,
      "id": "b2897071",
      "metadata": {
        "id": "b2897071",
        "outputId": "3e2cf64b-356c-48ec-ad07-a400bc47b9e5"
      },
      "outputs": [
        {
          "data": {
            "text/html": [
              "<div>\n",
              "<style scoped>\n",
              "    .dataframe tbody tr th:only-of-type {\n",
              "        vertical-align: middle;\n",
              "    }\n",
              "\n",
              "    .dataframe tbody tr th {\n",
              "        vertical-align: top;\n",
              "    }\n",
              "\n",
              "    .dataframe thead th {\n",
              "        text-align: right;\n",
              "    }\n",
              "</style>\n",
              "<table border=\"1\" class=\"dataframe\">\n",
              "  <thead>\n",
              "    <tr style=\"text-align: right;\">\n",
              "      <th></th>\n",
              "      <th>Unnamed: 0</th>\n",
              "      <th>Year</th>\n",
              "      <th>Lag1</th>\n",
              "      <th>Lag2</th>\n",
              "      <th>Lag3</th>\n",
              "      <th>Lag4</th>\n",
              "      <th>Lag5</th>\n",
              "      <th>Volume</th>\n",
              "      <th>Today</th>\n",
              "      <th>Direction</th>\n",
              "    </tr>\n",
              "  </thead>\n",
              "  <tbody>\n",
              "    <tr>\n",
              "      <th>0</th>\n",
              "      <td>1</td>\n",
              "      <td>1990</td>\n",
              "      <td>0.816</td>\n",
              "      <td>1.572</td>\n",
              "      <td>-3.936</td>\n",
              "      <td>-0.229</td>\n",
              "      <td>-3.484</td>\n",
              "      <td>0.154976</td>\n",
              "      <td>-0.270</td>\n",
              "      <td>Down</td>\n",
              "    </tr>\n",
              "    <tr>\n",
              "      <th>1</th>\n",
              "      <td>2</td>\n",
              "      <td>1990</td>\n",
              "      <td>-0.270</td>\n",
              "      <td>0.816</td>\n",
              "      <td>1.572</td>\n",
              "      <td>-3.936</td>\n",
              "      <td>-0.229</td>\n",
              "      <td>0.148574</td>\n",
              "      <td>-2.576</td>\n",
              "      <td>Down</td>\n",
              "    </tr>\n",
              "    <tr>\n",
              "      <th>2</th>\n",
              "      <td>3</td>\n",
              "      <td>1990</td>\n",
              "      <td>-2.576</td>\n",
              "      <td>-0.270</td>\n",
              "      <td>0.816</td>\n",
              "      <td>1.572</td>\n",
              "      <td>-3.936</td>\n",
              "      <td>0.159837</td>\n",
              "      <td>3.514</td>\n",
              "      <td>Up</td>\n",
              "    </tr>\n",
              "    <tr>\n",
              "      <th>3</th>\n",
              "      <td>4</td>\n",
              "      <td>1990</td>\n",
              "      <td>3.514</td>\n",
              "      <td>-2.576</td>\n",
              "      <td>-0.270</td>\n",
              "      <td>0.816</td>\n",
              "      <td>1.572</td>\n",
              "      <td>0.161630</td>\n",
              "      <td>0.712</td>\n",
              "      <td>Up</td>\n",
              "    </tr>\n",
              "    <tr>\n",
              "      <th>4</th>\n",
              "      <td>5</td>\n",
              "      <td>1990</td>\n",
              "      <td>0.712</td>\n",
              "      <td>3.514</td>\n",
              "      <td>-2.576</td>\n",
              "      <td>-0.270</td>\n",
              "      <td>0.816</td>\n",
              "      <td>0.153728</td>\n",
              "      <td>1.178</td>\n",
              "      <td>Up</td>\n",
              "    </tr>\n",
              "  </tbody>\n",
              "</table>\n",
              "</div>"
            ],
            "text/plain": [
              "   Unnamed: 0  Year   Lag1   Lag2   Lag3   Lag4   Lag5    Volume  Today  \\\n",
              "0           1  1990  0.816  1.572 -3.936 -0.229 -3.484  0.154976 -0.270   \n",
              "1           2  1990 -0.270  0.816  1.572 -3.936 -0.229  0.148574 -2.576   \n",
              "2           3  1990 -2.576 -0.270  0.816  1.572 -3.936  0.159837  3.514   \n",
              "3           4  1990  3.514 -2.576 -0.270  0.816  1.572  0.161630  0.712   \n",
              "4           5  1990  0.712  3.514 -2.576 -0.270  0.816  0.153728  1.178   \n",
              "\n",
              "  Direction  \n",
              "0      Down  \n",
              "1      Down  \n",
              "2        Up  \n",
              "3        Up  \n",
              "4        Up  "
            ]
          },
          "execution_count": 6,
          "metadata": {},
          "output_type": "execute_result"
        }
      ],
      "source": [
        "weekly.head()"
      ]
    },
    {
      "cell_type": "markdown",
      "id": "5045efd7",
      "metadata": {
        "id": "5045efd7"
      },
      "source": [
        "a. Les statisques descriptives et graphiques"
      ]
    },
    {
      "cell_type": "code",
      "execution_count": null,
      "id": "23bd5d32",
      "metadata": {
        "id": "23bd5d32",
        "outputId": "31a2ade0-6fe1-4b75-e5c3-1042cdd6c796"
      },
      "outputs": [
        {
          "data": {
            "text/html": [
              "<div>\n",
              "<style scoped>\n",
              "    .dataframe tbody tr th:only-of-type {\n",
              "        vertical-align: middle;\n",
              "    }\n",
              "\n",
              "    .dataframe tbody tr th {\n",
              "        vertical-align: top;\n",
              "    }\n",
              "\n",
              "    .dataframe thead th {\n",
              "        text-align: right;\n",
              "    }\n",
              "</style>\n",
              "<table border=\"1\" class=\"dataframe\">\n",
              "  <thead>\n",
              "    <tr style=\"text-align: right;\">\n",
              "      <th></th>\n",
              "      <th>Unnamed: 0</th>\n",
              "      <th>Year</th>\n",
              "      <th>Lag1</th>\n",
              "      <th>Lag2</th>\n",
              "      <th>Lag3</th>\n",
              "      <th>Lag4</th>\n",
              "      <th>Lag5</th>\n",
              "      <th>Volume</th>\n",
              "      <th>Today</th>\n",
              "    </tr>\n",
              "  </thead>\n",
              "  <tbody>\n",
              "    <tr>\n",
              "      <th>count</th>\n",
              "      <td>1089.000000</td>\n",
              "      <td>1089.000000</td>\n",
              "      <td>1089.000000</td>\n",
              "      <td>1089.000000</td>\n",
              "      <td>1089.000000</td>\n",
              "      <td>1089.000000</td>\n",
              "      <td>1089.000000</td>\n",
              "      <td>1089.000000</td>\n",
              "      <td>1089.000000</td>\n",
              "    </tr>\n",
              "    <tr>\n",
              "      <th>mean</th>\n",
              "      <td>545.000000</td>\n",
              "      <td>2000.048669</td>\n",
              "      <td>0.150585</td>\n",
              "      <td>0.151079</td>\n",
              "      <td>0.147205</td>\n",
              "      <td>0.145818</td>\n",
              "      <td>0.139893</td>\n",
              "      <td>1.574618</td>\n",
              "      <td>0.149899</td>\n",
              "    </tr>\n",
              "    <tr>\n",
              "      <th>std</th>\n",
              "      <td>314.511526</td>\n",
              "      <td>6.033182</td>\n",
              "      <td>2.357013</td>\n",
              "      <td>2.357254</td>\n",
              "      <td>2.360502</td>\n",
              "      <td>2.360279</td>\n",
              "      <td>2.361285</td>\n",
              "      <td>1.686636</td>\n",
              "      <td>2.356927</td>\n",
              "    </tr>\n",
              "    <tr>\n",
              "      <th>min</th>\n",
              "      <td>1.000000</td>\n",
              "      <td>1990.000000</td>\n",
              "      <td>-18.195000</td>\n",
              "      <td>-18.195000</td>\n",
              "      <td>-18.195000</td>\n",
              "      <td>-18.195000</td>\n",
              "      <td>-18.195000</td>\n",
              "      <td>0.087465</td>\n",
              "      <td>-18.195000</td>\n",
              "    </tr>\n",
              "    <tr>\n",
              "      <th>25%</th>\n",
              "      <td>273.000000</td>\n",
              "      <td>1995.000000</td>\n",
              "      <td>-1.154000</td>\n",
              "      <td>-1.154000</td>\n",
              "      <td>-1.158000</td>\n",
              "      <td>-1.158000</td>\n",
              "      <td>-1.166000</td>\n",
              "      <td>0.332022</td>\n",
              "      <td>-1.154000</td>\n",
              "    </tr>\n",
              "    <tr>\n",
              "      <th>50%</th>\n",
              "      <td>545.000000</td>\n",
              "      <td>2000.000000</td>\n",
              "      <td>0.241000</td>\n",
              "      <td>0.241000</td>\n",
              "      <td>0.241000</td>\n",
              "      <td>0.238000</td>\n",
              "      <td>0.234000</td>\n",
              "      <td>1.002680</td>\n",
              "      <td>0.241000</td>\n",
              "    </tr>\n",
              "    <tr>\n",
              "      <th>75%</th>\n",
              "      <td>817.000000</td>\n",
              "      <td>2005.000000</td>\n",
              "      <td>1.405000</td>\n",
              "      <td>1.409000</td>\n",
              "      <td>1.409000</td>\n",
              "      <td>1.409000</td>\n",
              "      <td>1.405000</td>\n",
              "      <td>2.053727</td>\n",
              "      <td>1.405000</td>\n",
              "    </tr>\n",
              "    <tr>\n",
              "      <th>max</th>\n",
              "      <td>1089.000000</td>\n",
              "      <td>2010.000000</td>\n",
              "      <td>12.026000</td>\n",
              "      <td>12.026000</td>\n",
              "      <td>12.026000</td>\n",
              "      <td>12.026000</td>\n",
              "      <td>12.026000</td>\n",
              "      <td>9.328214</td>\n",
              "      <td>12.026000</td>\n",
              "    </tr>\n",
              "  </tbody>\n",
              "</table>\n",
              "</div>"
            ],
            "text/plain": [
              "        Unnamed: 0         Year         Lag1         Lag2         Lag3  \\\n",
              "count  1089.000000  1089.000000  1089.000000  1089.000000  1089.000000   \n",
              "mean    545.000000  2000.048669     0.150585     0.151079     0.147205   \n",
              "std     314.511526     6.033182     2.357013     2.357254     2.360502   \n",
              "min       1.000000  1990.000000   -18.195000   -18.195000   -18.195000   \n",
              "25%     273.000000  1995.000000    -1.154000    -1.154000    -1.158000   \n",
              "50%     545.000000  2000.000000     0.241000     0.241000     0.241000   \n",
              "75%     817.000000  2005.000000     1.405000     1.409000     1.409000   \n",
              "max    1089.000000  2010.000000    12.026000    12.026000    12.026000   \n",
              "\n",
              "              Lag4         Lag5       Volume        Today  \n",
              "count  1089.000000  1089.000000  1089.000000  1089.000000  \n",
              "mean      0.145818     0.139893     1.574618     0.149899  \n",
              "std       2.360279     2.361285     1.686636     2.356927  \n",
              "min     -18.195000   -18.195000     0.087465   -18.195000  \n",
              "25%      -1.158000    -1.166000     0.332022    -1.154000  \n",
              "50%       0.238000     0.234000     1.002680     0.241000  \n",
              "75%       1.409000     1.405000     2.053727     1.405000  \n",
              "max      12.026000    12.026000     9.328214    12.026000  "
            ]
          },
          "execution_count": 8,
          "metadata": {},
          "output_type": "execute_result"
        }
      ],
      "source": [
        "weekly.describe()"
      ]
    },
    {
      "cell_type": "code",
      "execution_count": null,
      "id": "ba092e21",
      "metadata": {
        "id": "ba092e21",
        "outputId": "72ee43bc-cf86-4d54-875e-270024c98e77"
      },
      "outputs": [
        {
          "data": {
            "text/html": [
              "<div>\n",
              "<style scoped>\n",
              "    .dataframe tbody tr th:only-of-type {\n",
              "        vertical-align: middle;\n",
              "    }\n",
              "\n",
              "    .dataframe tbody tr th {\n",
              "        vertical-align: top;\n",
              "    }\n",
              "\n",
              "    .dataframe thead th {\n",
              "        text-align: right;\n",
              "    }\n",
              "</style>\n",
              "<table border=\"1\" class=\"dataframe\">\n",
              "  <thead>\n",
              "    <tr style=\"text-align: right;\">\n",
              "      <th></th>\n",
              "      <th>Unnamed: 0</th>\n",
              "      <th>Year</th>\n",
              "      <th>Lag1</th>\n",
              "      <th>Lag2</th>\n",
              "      <th>Lag3</th>\n",
              "      <th>Lag4</th>\n",
              "      <th>Lag5</th>\n",
              "      <th>Volume</th>\n",
              "      <th>Today</th>\n",
              "    </tr>\n",
              "  </thead>\n",
              "  <tbody>\n",
              "    <tr>\n",
              "      <th>Unnamed: 0</th>\n",
              "      <td>1.000000</td>\n",
              "      <td>0.998863</td>\n",
              "      <td>-0.031577</td>\n",
              "      <td>-0.033129</td>\n",
              "      <td>-0.030420</td>\n",
              "      <td>-0.030935</td>\n",
              "      <td>-0.030382</td>\n",
              "      <td>0.842095</td>\n",
              "      <td>-0.031183</td>\n",
              "    </tr>\n",
              "    <tr>\n",
              "      <th>Year</th>\n",
              "      <td>0.998863</td>\n",
              "      <td>1.000000</td>\n",
              "      <td>-0.032289</td>\n",
              "      <td>-0.033390</td>\n",
              "      <td>-0.030006</td>\n",
              "      <td>-0.031128</td>\n",
              "      <td>-0.030519</td>\n",
              "      <td>0.841942</td>\n",
              "      <td>-0.032460</td>\n",
              "    </tr>\n",
              "    <tr>\n",
              "      <th>Lag1</th>\n",
              "      <td>-0.031577</td>\n",
              "      <td>-0.032289</td>\n",
              "      <td>1.000000</td>\n",
              "      <td>-0.074853</td>\n",
              "      <td>0.058636</td>\n",
              "      <td>-0.071274</td>\n",
              "      <td>-0.008183</td>\n",
              "      <td>-0.064951</td>\n",
              "      <td>-0.075032</td>\n",
              "    </tr>\n",
              "    <tr>\n",
              "      <th>Lag2</th>\n",
              "      <td>-0.033129</td>\n",
              "      <td>-0.033390</td>\n",
              "      <td>-0.074853</td>\n",
              "      <td>1.000000</td>\n",
              "      <td>-0.075721</td>\n",
              "      <td>0.058382</td>\n",
              "      <td>-0.072499</td>\n",
              "      <td>-0.085513</td>\n",
              "      <td>0.059167</td>\n",
              "    </tr>\n",
              "    <tr>\n",
              "      <th>Lag3</th>\n",
              "      <td>-0.030420</td>\n",
              "      <td>-0.030006</td>\n",
              "      <td>0.058636</td>\n",
              "      <td>-0.075721</td>\n",
              "      <td>1.000000</td>\n",
              "      <td>-0.075396</td>\n",
              "      <td>0.060657</td>\n",
              "      <td>-0.069288</td>\n",
              "      <td>-0.071244</td>\n",
              "    </tr>\n",
              "    <tr>\n",
              "      <th>Lag4</th>\n",
              "      <td>-0.030935</td>\n",
              "      <td>-0.031128</td>\n",
              "      <td>-0.071274</td>\n",
              "      <td>0.058382</td>\n",
              "      <td>-0.075396</td>\n",
              "      <td>1.000000</td>\n",
              "      <td>-0.075675</td>\n",
              "      <td>-0.061075</td>\n",
              "      <td>-0.007826</td>\n",
              "    </tr>\n",
              "    <tr>\n",
              "      <th>Lag5</th>\n",
              "      <td>-0.030382</td>\n",
              "      <td>-0.030519</td>\n",
              "      <td>-0.008183</td>\n",
              "      <td>-0.072499</td>\n",
              "      <td>0.060657</td>\n",
              "      <td>-0.075675</td>\n",
              "      <td>1.000000</td>\n",
              "      <td>-0.058517</td>\n",
              "      <td>0.011013</td>\n",
              "    </tr>\n",
              "    <tr>\n",
              "      <th>Volume</th>\n",
              "      <td>0.842095</td>\n",
              "      <td>0.841942</td>\n",
              "      <td>-0.064951</td>\n",
              "      <td>-0.085513</td>\n",
              "      <td>-0.069288</td>\n",
              "      <td>-0.061075</td>\n",
              "      <td>-0.058517</td>\n",
              "      <td>1.000000</td>\n",
              "      <td>-0.033078</td>\n",
              "    </tr>\n",
              "    <tr>\n",
              "      <th>Today</th>\n",
              "      <td>-0.031183</td>\n",
              "      <td>-0.032460</td>\n",
              "      <td>-0.075032</td>\n",
              "      <td>0.059167</td>\n",
              "      <td>-0.071244</td>\n",
              "      <td>-0.007826</td>\n",
              "      <td>0.011013</td>\n",
              "      <td>-0.033078</td>\n",
              "      <td>1.000000</td>\n",
              "    </tr>\n",
              "  </tbody>\n",
              "</table>\n",
              "</div>"
            ],
            "text/plain": [
              "            Unnamed: 0      Year      Lag1      Lag2      Lag3      Lag4  \\\n",
              "Unnamed: 0    1.000000  0.998863 -0.031577 -0.033129 -0.030420 -0.030935   \n",
              "Year          0.998863  1.000000 -0.032289 -0.033390 -0.030006 -0.031128   \n",
              "Lag1         -0.031577 -0.032289  1.000000 -0.074853  0.058636 -0.071274   \n",
              "Lag2         -0.033129 -0.033390 -0.074853  1.000000 -0.075721  0.058382   \n",
              "Lag3         -0.030420 -0.030006  0.058636 -0.075721  1.000000 -0.075396   \n",
              "Lag4         -0.030935 -0.031128 -0.071274  0.058382 -0.075396  1.000000   \n",
              "Lag5         -0.030382 -0.030519 -0.008183 -0.072499  0.060657 -0.075675   \n",
              "Volume        0.842095  0.841942 -0.064951 -0.085513 -0.069288 -0.061075   \n",
              "Today        -0.031183 -0.032460 -0.075032  0.059167 -0.071244 -0.007826   \n",
              "\n",
              "                Lag5    Volume     Today  \n",
              "Unnamed: 0 -0.030382  0.842095 -0.031183  \n",
              "Year       -0.030519  0.841942 -0.032460  \n",
              "Lag1       -0.008183 -0.064951 -0.075032  \n",
              "Lag2       -0.072499 -0.085513  0.059167  \n",
              "Lag3        0.060657 -0.069288 -0.071244  \n",
              "Lag4       -0.075675 -0.061075 -0.007826  \n",
              "Lag5        1.000000 -0.058517  0.011013  \n",
              "Volume     -0.058517  1.000000 -0.033078  \n",
              "Today       0.011013 -0.033078  1.000000  "
            ]
          },
          "execution_count": 11,
          "metadata": {},
          "output_type": "execute_result"
        }
      ],
      "source": [
        "weekly.corr()"
      ]
    },
    {
      "cell_type": "code",
      "execution_count": null,
      "id": "48599a17",
      "metadata": {
        "id": "48599a17"
      },
      "outputs": [],
      "source": [
        "import matplotlib.pyplot as plt"
      ]
    },
    {
      "cell_type": "code",
      "execution_count": null,
      "id": "e1615071",
      "metadata": {
        "id": "e1615071",
        "outputId": "1da724b5-e43f-477d-f16e-2093d1715699"
      },
      "outputs": [
        {
          "data": {
            "image/png": "[encoded data removed]",
            "text/plain": [
              "<Figure size 1296x288 with 3 Axes>"
            ]
          },
          "metadata": {
            "needs_background": "light"
          },
          "output_type": "display_data"
        }
      ],
      "source": [
        "##Graphiques\n",
        "fig, (ax1,ax2,ax3) = plt.subplots(1,3,figsize=(18,4));\n",
        "\n",
        "ax1.scatter(weekly.Year.values,weekly.Volume.values, facecolors='none', edgecolors='b');\n",
        "ax1.set_xlabel('Year');\n",
        "ax1.set_ylabel('Volume');\n",
        "\n",
        "ax2.scatter(weekly.Lag1.values, weekly.Today.values, facecolors='none', edgecolors='b' );\n",
        "ax2.set_xlabel('Lag1 ');\n",
        "ax2.set_ylabel('Today');\n",
        "\n",
        "\n",
        "ax3.scatter(weekly.Today.values, weekly.Volume.values, facecolors='none', edgecolors='b' );\n",
        "ax3.set_xlabel('Today ');\n",
        "ax3.set_ylabel('Volume');\n",
        "\n",
        "\n",
        "\n"
      ]
    },
    {
      "cell_type": "code",
      "execution_count": null,
      "id": "1070d88e",
      "metadata": {
        "id": "1070d88e"
      },
      "outputs": [],
      "source": []
    },
    {
      "cell_type": "markdown",
      "id": "177723c2",
      "metadata": {
        "id": "177723c2"
      },
      "source": [
        "b) Estimation du modèle Logit"
      ]
    },
    {
      "cell_type": "code",
      "execution_count": null,
      "id": "0b57afa4",
      "metadata": {
        "id": "0b57afa4"
      },
      "outputs": [],
      "source": [
        "from sklearn.linear_model import LogisticRegression"
      ]
    },
    {
      "cell_type": "code",
      "execution_count": null,
      "id": "70b4ff5e",
      "metadata": {
        "id": "70b4ff5e"
      },
      "outputs": [],
      "source": [
        "##Extraction des variables explicatives pour estimation\n",
        "predictors = weekly.columns[1:7]\n",
        "X = sm.add_constant(weekly[predictors])"
      ]
    },
    {
      "cell_type": "code",
      "execution_count": null,
      "id": "59745d34",
      "metadata": {
        "id": "59745d34"
      },
      "outputs": [],
      "source": [
        "import statsmodels.api as sm\n",
        "import statsmodels.formula.api as smf"
      ]
    },
    {
      "cell_type": "code",
      "execution_count": null,
      "id": "4ebefe9a",
      "metadata": {
        "id": "4ebefe9a"
      },
      "outputs": [],
      "source": [
        "##Encodage de la variable binaire\n",
        "Y = np.array([1 if el=='Up' else 0 for el in weekly.Direction.values])"
      ]
    },
    {
      "cell_type": "code",
      "execution_count": null,
      "id": "46197791",
      "metadata": {
        "id": "46197791",
        "outputId": "2e2d1e09-c7fb-49a2-d7f2-1c021f2227c3"
      },
      "outputs": [
        {
          "name": "stdout",
          "output_type": "stream",
          "text": [
            "Optimization terminated successfully.\n",
            "         Current function value: 0.682350\n",
            "         Iterations 5\n",
            "                           Logit Regression Results                           \n",
            "==============================================================================\n",
            "Dep. Variable:                      y   No. Observations:                 1089\n",
            "Model:                          Logit   Df Residuals:                     1082\n",
            "Method:                           MLE   Df Model:                            6\n",
            "Date:                Thu, 17 Feb 2022   Pseudo R-squ.:                0.006713\n",
            "Time:                        11:54:08   Log-Likelihood:                -743.08\n",
            "converged:                       True   LL-Null:                       -748.10\n",
            "Covariance Type:            nonrobust   LLR p-value:                    0.1228\n",
            "==============================================================================\n",
            "                 coef    std err          z      P>|z|      [0.025      0.975]\n",
            "------------------------------------------------------------------------------\n",
            "const         15.7148     20.380      0.771      0.441     -24.229      55.659\n",
            "Year          -0.0077      0.010     -0.760      0.447      -0.028       0.012\n",
            "Lag1          -0.0408      0.026     -1.547      0.122      -0.092       0.011\n",
            "Lag2           0.0593      0.027      2.216      0.027       0.007       0.112\n",
            "Lag3          -0.0156      0.027     -0.585      0.559      -0.068       0.037\n",
            "Lag4          -0.0274      0.026     -1.037      0.300      -0.079       0.024\n",
            "Lag5          -0.0141      0.026     -0.535      0.593      -0.066       0.038\n",
            "==============================================================================\n"
          ]
        }
      ],
      "source": [
        "## Estimation du modèle logistique\n",
        "logit = sm.Logit(Y,X)\n",
        "results=logit.fit()\n",
        "print(results.summary())"
      ]
    },
    {
      "cell_type": "markdown",
      "id": "8d9db814",
      "metadata": {
        "id": "8d9db814"
      },
      "source": [
        "c) Calcul de la matrice de confusion et fraction de prédictions correctes"
      ]
    },
    {
      "cell_type": "code",
      "execution_count": null,
      "id": "24519335",
      "metadata": {
        "id": "24519335",
        "outputId": "d47ac6d7-1c8f-452e-e71c-4456eedee665"
      },
      "outputs": [
        {
          "name": "stdout",
          "output_type": "stream",
          "text": [
            "       Down     Up\n",
            "Down   58.0   48.0\n",
            "Up    426.0  557.0\n",
            "\n",
            "\n",
            "Fraction prediction correcte = 0.5647382920110193\n"
          ]
        }
      ],
      "source": [
        "Y_predicted = results.predict(X)\n",
        "Y_predicted= np.array(Y_predicted > 0.5, dtype=float)\n",
        "table = np.histogram2d(Y_predicted, Y, bins=2)[0]\n",
        "print(pd.DataFrame(table, ['Down', 'Up'], ['Down', 'Up']))\n",
        "print('\\n')\n",
        "print(\"Fraction prediction correcte =\", (table[0,0]+table[1,1])/np.sum(table))\n",
        "\n"
      ]
    },
    {
      "cell_type": "code",
      "execution_count": null,
      "id": "d08e2a9b",
      "metadata": {
        "id": "d08e2a9b"
      },
      "outputs": [],
      "source": [
        "from sklearn.metrics import confusion_matrix, classification_report"
      ]
    },
    {
      "cell_type": "markdown",
      "id": "1d2eb578",
      "metadata": {
        "id": "1d2eb578"
      },
      "source": [
        "d) Estimation logit avec données d'entrainement 1990--2008"
      ]
    },
    {
      "cell_type": "code",
      "execution_count": null,
      "id": "e2a48feb",
      "metadata": {
        "id": "e2a48feb"
      },
      "outputs": [],
      "source": [
        "## Découpage pour données d'entrainement\n",
        "Xt_train = weekly.loc[weekly['Year']<=2008,:].Lag2\n",
        "dir_train=weekly[weekly.Year<=2008].Direction\n",
        "Yt_train =np.array([1 if el=='Up' else 0 for el in dir_train])\n",
        "Yt_train = np.array([1 if el=='Up' else 0 for el in dir_train])"
      ]
    },
    {
      "cell_type": "code",
      "execution_count": null,
      "id": "8ca12c21",
      "metadata": {
        "id": "8ca12c21"
      },
      "outputs": [],
      "source": [
        "## Découpage pour données test\n",
        "Xt_test = sm.add_constant(weekly[weekly.Year > 2008].Lag2)\n",
        "dir_test = weekly[weekly.Year > 2008].Direction\n",
        "Yt_test = np.array([1 if el=='Up' else 0 for el in dir_test])\n"
      ]
    },
    {
      "cell_type": "code",
      "execution_count": null,
      "id": "68c59139",
      "metadata": {
        "id": "68c59139",
        "outputId": "b8b5a648-2c87-4785-d6a9-f9d750f1680f"
      },
      "outputs": [
        {
          "name": "stdout",
          "output_type": "stream",
          "text": [
            "Optimization terminated successfully.\n",
            "         Current function value: 0.690654\n",
            "         Iterations 4\n",
            "                           Logit Regression Results                           \n",
            "==============================================================================\n",
            "Dep. Variable:                      y   No. Observations:                  985\n",
            "Model:                          Logit   Df Residuals:                      984\n",
            "Method:                           MLE   Df Model:                            0\n",
            "Date:                Thu, 17 Feb 2022   Pseudo R-squ.:               -0.004340\n",
            "Time:                        12:33:35   Log-Likelihood:                -680.29\n",
            "converged:                       True   LL-Null:                       -677.35\n",
            "Covariance Type:            nonrobust   LLR p-value:                       nan\n",
            "==============================================================================\n",
            "                 coef    std err          z      P>|z|      [0.025      0.975]\n",
            "------------------------------------------------------------------------------\n",
            "Lag2           0.0629      0.029      2.192      0.028       0.007       0.119\n",
            "==============================================================================\n",
            "\n",
            "\n"
          ]
        }
      ],
      "source": [
        "## Estimation logistique sur splitted data\n",
        "model = sm.Logit(Yt_train,Xt_train)\n",
        "result = model.fit()\n",
        "print(result.summary())\n",
        "print('\\n')\n"
      ]
    },
    {
      "cell_type": "code",
      "execution_count": null,
      "id": "b25071d1",
      "metadata": {
        "id": "b25071d1",
        "outputId": "7393af04-981a-4508-a2d5-8f732aafb2e9"
      },
      "outputs": [
        {
          "name": "stdout",
          "output_type": "stream",
          "text": [
            "matrice de confusion\n",
            "      Down    Up\n",
            "Down   7.0   8.0\n",
            "Up    36.0  53.0\n",
            "\n",
            "\n",
            "Taux derreur = 0.42307692307692313\n"
          ]
        }
      ],
      "source": [
        "## Prediction with test data and confusion matrix\n",
        "y_predicted = results.predict(X_test)\n",
        "# assignation des probabilités aux classes\n",
        "y_predicted= np.array(y_predicted > 0.5, dtype=float)\n",
        "\n",
        "table = np.histogram2d(y_predicted, y_test, bins=2)[0]\n",
        "print('matrice de confusion')\n",
        "print(pd.DataFrame(table, ['Down', 'Up'], ['Down', 'Up']))\n",
        "print('\\n')\n",
        "print(\"Taux derreur =\", 1-(table[0,0]+table[1,1])/np.sum(table))\n"
      ]
    },
    {
      "cell_type": "code",
      "execution_count": null,
      "id": "abf7b9b5",
      "metadata": {
        "id": "abf7b9b5"
      },
      "outputs": [],
      "source": [
        "from sklearn.discriminant_analysis import LinearDiscriminantAnalysis as LDA\n",
        "from sklearn.discriminant_analysis import QuadraticDiscriminantAnalysis as QDA\n",
        "from sklearn.neighbors import KNeighborsClassifier\n",
        "from sklearn.preprocessing import scale"
      ]
    },
    {
      "cell_type": "markdown",
      "id": "5056ff94",
      "metadata": {
        "id": "5056ff94"
      },
      "source": [
        "e) Reprendre d) avec LDA"
      ]
    },
    {
      "cell_type": "code",
      "execution_count": null,
      "id": "fe875e2a",
      "metadata": {
        "id": "fe875e2a"
      },
      "outputs": [],
      "source": [
        "## Nous départageons également les données en entraînement et test\n",
        "clf = LDA(solver='lsqr', store_covariance=True)\n",
        "## Données d'entrainement\n",
        "X_train = weekly[weekly.Year <= 2008].Lag2.values\n",
        "X_train = X_train.reshape((len(X_train),1))\n"
      ]
    },
    {
      "cell_type": "code",
      "execution_count": null,
      "id": "b4b0a6b1",
      "metadata": {
        "id": "b4b0a6b1"
      },
      "outputs": [],
      "source": [
        "# Données test\n",
        "X_test = weekly[weekly.Year > 2008].Lag2.values\n",
        "X_test = X_test.reshape((len(X_test),1))"
      ]
    },
    {
      "cell_type": "code",
      "execution_count": null,
      "id": "1c8b07b6",
      "metadata": {
        "id": "1c8b07b6",
        "outputId": "0db5ba9e-c0b2-4b38-d1b6-13adda666532"
      },
      "outputs": [
        {
          "name": "stdout",
          "output_type": "stream",
          "text": [
            "Priors =  [0.44771574 0.55228426]\n",
            "Class Means =  [-0.03568254] [0.26036581]\n",
            "Coeffecients =  [[0.05780187]]\n",
            "\n",
            "\n"
          ]
        }
      ],
      "source": [
        "## Ajustement LDA des doonées du modèle\n",
        "clf.fit(X_train, Yt_train)\n",
        "print('Priors = ', clf.priors_ )\n",
        "print('Class Means = ', clf.means_[0], clf.means_[1])\n",
        "print('Coeffecients = ', clf.coef_)\n",
        "print('\\n')"
      ]
    },
    {
      "cell_type": "code",
      "execution_count": null,
      "id": "aafd9687",
      "metadata": {
        "id": "aafd9687"
      },
      "outputs": [],
      "source": [
        "##Faisons une prédiction sur les données test\n",
        "y_predicted = clf.predict(X_test)\n",
        "#convertir les proababilitées pour les faire appartenir à la classe 0 ou 1\n",
        "y_predicted= np.array(y_predicted > 0.5, dtype=float)\n"
      ]
    },
    {
      "cell_type": "code",
      "execution_count": null,
      "id": "b0f7441e",
      "metadata": {
        "id": "b0f7441e",
        "outputId": "e77093f3-e256-4fb9-f2c1-48b1570929d2"
      },
      "outputs": [
        {
          "name": "stdout",
          "output_type": "stream",
          "text": [
            "matrice de confusion\n",
            "      Down    Up\n",
            "Down  21.0  30.0\n",
            "Up    22.0  31.0\n",
            "\n",
            "\n",
            "Taux derreur = 0.5\n"
          ]
        }
      ],
      "source": [
        "table = np.histogram2d(y_predicted, Yt_test, bins=2)[0]\n",
        "print('matrice de confusion')\n",
        "print(pd.DataFrame(table, ['Down', 'Up'], ['Down', 'Up']))\n",
        "print('\\n')\n",
        "print(\"Taux derreur =\", 1-(table[0,0]+table[1,1])/np.sum(table))\n"
      ]
    },
    {
      "cell_type": "markdown",
      "id": "6a563a25",
      "metadata": {
        "id": "6a563a25"
      },
      "source": [
        "f) Reprendre d) avec QDA"
      ]
    },
    {
      "cell_type": "code",
      "execution_count": null,
      "id": "330f6b29",
      "metadata": {
        "id": "330f6b29",
        "outputId": "498422d8-f1f5-48f0-870f-79ff7692f5e9"
      },
      "outputs": [
        {
          "data": {
            "text/plain": [
              "QuadraticDiscriminantAnalysis(store_covariance=True)"
            ]
          },
          "execution_count": 101,
          "metadata": {},
          "output_type": "execute_result"
        }
      ],
      "source": [
        "qda = QDA(store_covariance=True)\n",
        "qda.fit(X_train,Yt_train)"
      ]
    },
    {
      "cell_type": "code",
      "execution_count": null,
      "id": "6308c86f",
      "metadata": {
        "id": "6308c86f"
      },
      "outputs": [],
      "source": [
        "##Prédiction sur données test\n",
        "y_predict = qda.predict(X_test)\n",
        "y_predicted= np.array(y_predict > 0.5, dtype=float)"
      ]
    },
    {
      "cell_type": "code",
      "execution_count": null,
      "id": "fe07bc9f",
      "metadata": {
        "id": "fe07bc9f",
        "outputId": "606aba1a-5c36-470b-df11-cb5dc6ab030b"
      },
      "outputs": [
        {
          "name": "stdout",
          "output_type": "stream",
          "text": [
            "matrice de confusion\n",
            "      Down  Up\n",
            "Down     0  43\n",
            "Up       0  61\n",
            "\n",
            "\n",
            "Taux derreur = 0.41346153846153844\n"
          ]
        }
      ],
      "source": [
        "## Calculons à présent la matrice de confusion\n",
        "table = confusion_matrix( Yt_test,y_predict)\n",
        "print('matrice de confusion')\n",
        "print(pd.DataFrame(table, ['Down', 'Up'], ['Down', 'Up']))\n",
        "print('\\n')\n",
        "print('Taux derreur =', 1-(table[0,0]+table[1,1])/np.sum(table))\n"
      ]
    },
    {
      "cell_type": "markdown",
      "id": "c7209bc0",
      "metadata": {
        "id": "c7209bc0"
      },
      "source": [
        "g) Reprendre d) avec KNN, K=1"
      ]
    },
    {
      "cell_type": "code",
      "execution_count": null,
      "id": "c64ff754",
      "metadata": {
        "id": "c64ff754",
        "outputId": "27ccf809-5714-435c-ae66-dd393d566d22"
      },
      "outputs": [
        {
          "data": {
            "text/plain": [
              "KNeighborsClassifier(n_neighbors=1)"
            ]
          },
          "execution_count": 104,
          "metadata": {},
          "output_type": "execute_result"
        }
      ],
      "source": [
        "clf = KNeighborsClassifier(n_neighbors=1)\n",
        "clf.fit(X_train, Yt_train)\n"
      ]
    },
    {
      "cell_type": "code",
      "execution_count": null,
      "id": "7405b81e",
      "metadata": {
        "id": "7405b81e",
        "outputId": "c413e214-4889-48e5-9ff0-5dcd2ed2a230"
      },
      "outputs": [
        {
          "name": "stdout",
          "output_type": "stream",
          "text": [
            "      Down  Up\n",
            "Down    21  22\n",
            "Up      30  31\n",
            "\n",
            "Taux derreur = 0.5\n"
          ]
        }
      ],
      "source": [
        "## Prédiction sur données test et matrice de confusion\n",
        "y_predicted = clf.predict(X_test)\n",
        "\n",
        "table = confusion_matrix(Yt_test,y_predicted )\n",
        "print(pd.DataFrame(table, ['Down', 'Up'], ['Down', 'Up']))\n",
        "print('')\n",
        "print('Taux derreur =', 1-(table[0,0]+table[1,1])/np.sum(table))\n"
      ]
    },
    {
      "cell_type": "code",
      "execution_count": null,
      "id": "f5bd91e9",
      "metadata": {
        "id": "f5bd91e9"
      },
      "outputs": [],
      "source": [
        "## h) La méthode QDA semble le mieux prédire les données car le taux d'erreur (0.41) est la plus faible comparativement aux deux\n",
        "## autres méthodes. QDA semble donc ajuster le mieux les données."
      ]
    },
    {
      "cell_type": "code",
      "execution_count": null,
      "id": "e656892e",
      "metadata": {
        "id": "e656892e"
      },
      "outputs": [],
      "source": [
        "## i)  Expérimentez différentes combinaisons des prédicteurs, incluant des transformations et interactions. Reportez \n",
        "## les estimateurs et la matrice de confusion pour la méthode qui semble donner les meilleurs rÈsultats sur l'échantillon test.\n",
        "## Expérimentez aussi plusieurs valeurs de K pour KNN."
      ]
    },
    {
      "cell_type": "code",
      "execution_count": null,
      "id": "c13fbad9",
      "metadata": {
        "id": "c13fbad9"
      },
      "outputs": [],
      "source": [
        "## Modèle avec lag1 lag2 et lag3 comme prédicteurs\n",
        "predictors = weekly.columns[1:4]## selon la base de données\n",
        "X_train = sm.add_constant(weekly[weekly.Year <= 2008][predictors])\n",
        "response_train = weekly[weekly.Year <= 2008].Direction\n",
        "y_train = np.array([1 if el=='Up' else 0 for el in response_train])\n"
      ]
    },
    {
      "cell_type": "code",
      "execution_count": null,
      "id": "e874a219",
      "metadata": {
        "id": "e874a219"
      },
      "outputs": [],
      "source": [
        "## Les données test \n",
        "X_test = sm.add_constant(weekly[weekly.Year > 2008][predictors])\n",
        "response_test = weekly[weekly.Year > 2008].Direction\n",
        "y_test = np.array([1 if el=='Up' else 0 for el in response_test])"
      ]
    },
    {
      "cell_type": "code",
      "execution_count": null,
      "id": "2abd201f",
      "metadata": {
        "id": "2abd201f",
        "outputId": "9939b0ce-e0ab-4926-bbf6-fdf3b4a7523f"
      },
      "outputs": [
        {
          "name": "stdout",
          "output_type": "stream",
          "text": [
            "Optimization terminated successfully.\n",
            "         Current function value: 0.682912\n",
            "         Iterations 5\n",
            "                           Logit Regression Results                           \n",
            "==============================================================================\n",
            "Dep. Variable:                      y   No. Observations:                  985\n",
            "Model:                          Logit   Df Residuals:                      981\n",
            "Method:                           MLE   Df Model:                            3\n",
            "Date:                Thu, 17 Feb 2022   Pseudo R-squ.:                0.006919\n",
            "Time:                        13:35:16   Log-Likelihood:                -672.67\n",
            "converged:                       True   LL-Null:                       -677.35\n",
            "Covariance Type:            nonrobust   LLR p-value:                   0.02472\n",
            "==============================================================================\n",
            "                 coef    std err          z      P>|z|      [0.025      0.975]\n",
            "------------------------------------------------------------------------------\n",
            "const         30.3921     23.720      1.281      0.200     -16.098      76.883\n",
            "Year          -0.0151      0.012     -1.272      0.203      -0.038       0.008\n",
            "Lag1          -0.0567      0.029     -1.961      0.050      -0.113   -2.92e-05\n",
            "Lag2           0.0514      0.029      1.767      0.077      -0.006       0.108\n",
            "==============================================================================\n",
            "\n",
            "\n"
          ]
        }
      ],
      "source": [
        "## Ajustement des données au modèle\n",
        "logit = sm.Logit(y_train, X_train)\n",
        "results = logit.fit()\n",
        "print(results.summary())\n",
        "print('\\n')"
      ]
    },
    {
      "cell_type": "code",
      "execution_count": null,
      "id": "6d0c339b",
      "metadata": {
        "id": "6d0c339b",
        "outputId": "f9a5edb5-b49f-435f-d230-ea8576e5949c"
      },
      "outputs": [
        {
          "name": "stdout",
          "output_type": "stream",
          "text": [
            "matrice de confusion\n",
            "      Down  Up\n",
            "Down    20  23\n",
            "Up      19  42\n",
            "\n",
            "\n",
            "Taux derreur = 0.40384615384615385\n"
          ]
        }
      ],
      "source": [
        "### Prédiction de notre modèle et matrice de confusion\n",
        "y_predicted = results.predict(X_test)\n",
        "y_predicted= np.array(y_predicted > 0.5, dtype=float)\n",
        "\n",
        "table = confusion_matrix(y_test, y_predicted)\n",
        "print('matrice de confusion')\n",
        "print(pd.DataFrame(table, ['Down', 'Up'], ['Down', 'Up']))\n",
        "print('\\n')\n",
        "print('Taux derreur =', 1-(table[0,0]+table[1,1])/np.sum(table))"
      ]
    },
    {
      "cell_type": "code",
      "execution_count": null,
      "id": "ccff115e",
      "metadata": {
        "id": "ccff115e"
      },
      "outputs": [],
      "source": [
        "## Modèle avec Lag1 et Lag2 et interaction Lag1*Lag2\n",
        "weekly['Lag1xLag2'] = pd.Series(weekly.Lag1*weekly.Lag2, index=weekly.index)\n",
        "predictors = ['Lag1', 'Lag2', 'Lag1xLag2']\n",
        "X_train = sm.add_constant(weekly[weekly.Year <= 2008][predictors])\n",
        "response_train = weekly[weekly.Year <= 2008].Direction \n",
        "y_train = np.array([1 if el=='Up' else 0 for el in response_train])"
      ]
    },
    {
      "cell_type": "code",
      "execution_count": null,
      "id": "1d68e409",
      "metadata": {
        "id": "1d68e409"
      },
      "outputs": [],
      "source": [
        "## Données test\n",
        "X_test = sm.add_constant(weekly[weekly.Year > 2008][predictors])\n",
        "response_test = weekly[weekly.Year > 2008].Direction\n",
        "y_test = np.array([1 if el=='Up' else 0 for el in response_test])\n"
      ]
    },
    {
      "cell_type": "code",
      "execution_count": null,
      "id": "333160f5",
      "metadata": {
        "id": "333160f5",
        "outputId": "60990032-8d79-4766-eecf-a30369827c89"
      },
      "outputs": [
        {
          "name": "stdout",
          "output_type": "stream",
          "text": [
            "Optimization terminated successfully.\n",
            "         Current function value: 0.683701\n",
            "         Iterations 4\n",
            "                           Logit Regression Results                           \n",
            "==============================================================================\n",
            "Dep. Variable:                      y   No. Observations:                  985\n",
            "Model:                          Logit   Df Residuals:                      981\n",
            "Method:                           MLE   Df Model:                            3\n",
            "Date:                Thu, 17 Feb 2022   Pseudo R-squ.:                0.005772\n",
            "Time:                        13:46:22   Log-Likelihood:                -673.45\n",
            "converged:                       True   LL-Null:                       -677.35\n",
            "Covariance Type:            nonrobust   LLR p-value:                   0.04990\n",
            "==============================================================================\n",
            "                 coef    std err          z      P>|z|      [0.025      0.975]\n",
            "------------------------------------------------------------------------------\n",
            "const          0.2114      0.065      3.273      0.001       0.085       0.338\n",
            "Lag1          -0.0515      0.031     -1.676      0.094      -0.112       0.009\n",
            "Lag2           0.0535      0.029      1.832      0.067      -0.004       0.111\n",
            "Lag1xLag2      0.0019      0.007      0.257      0.797      -0.013       0.017\n",
            "==============================================================================\n",
            "\n",
            "\n"
          ]
        }
      ],
      "source": [
        "## Ajustement des données\n",
        "logit = sm.Logit(y_train, X_train)\n",
        "results = logit.fit()\n",
        "print(results.summary())\n",
        "print('\\n')"
      ]
    },
    {
      "cell_type": "code",
      "execution_count": null,
      "id": "6fcbbe05",
      "metadata": {
        "id": "6fcbbe05",
        "outputId": "d6dbdeff-1cf2-4850-bbd7-c580dba40011"
      },
      "outputs": [
        {
          "name": "stdout",
          "output_type": "stream",
          "text": [
            "matrice de confusion\n",
            "      Down  Up\n",
            "Down     7  36\n",
            "Up       8  53\n",
            "\n",
            "\n",
            "Taux derreur = 0.42307692307692313\n"
          ]
        }
      ],
      "source": [
        "## Prédiction sur données test et matrice de confusion\n",
        "y_predicted = results.predict(X_test) \n",
        "y_predicted= np.array(y_predicted > 0.5, dtype=float)\n",
        "table = confusion_matrix(y_test, y_predicted)\n",
        "print('matrice de confusion')\n",
        "print(pd.DataFrame(table, ['Down', 'Up'], ['Down', 'Up']))\n",
        "print('\\n')\n",
        "print('Taux derreur =', 1-(table[0,0]+table[1,1])/np.sum(table))\n"
      ]
    },
    {
      "cell_type": "code",
      "execution_count": null,
      "id": "ebde1009",
      "metadata": {
        "id": "ebde1009",
        "outputId": "04a8be44-6b3e-4f7f-a340-e3e48cc1fb78"
      },
      "outputs": [
        {
          "name": "stdout",
          "output_type": "stream",
          "text": [
            "      Down  Up\n",
            "Down    32  11\n",
            "Up      45  16\n",
            "\n",
            "Taux derreur = 0.5384615384615384\n"
          ]
        }
      ],
      "source": [
        "##Expérimentons à présent plusieurs valeurs pour K avec KNN\n",
        "### K=2\n",
        "clf = KNeighborsClassifier(n_neighbors=2)\n",
        "clf.fit(X_train, Yt_train)\n",
        "\n",
        "##Prédiction sur données test et matrice de confusion\n",
        "y_predicted = clf.predict(X_test)\n",
        "\n",
        "table = confusion_matrix(Yt_test,y_predicted )\n",
        "print(pd.DataFrame(table, ['Down', 'Up'], ['Down', 'Up']))\n",
        "print('')\n",
        "print('Taux derreur =', 1-(table[0,0]+table[1,1])/np.sum(table))\n",
        "\n"
      ]
    },
    {
      "cell_type": "code",
      "execution_count": null,
      "id": "365d2ff8",
      "metadata": {
        "id": "365d2ff8",
        "outputId": "54d466ed-1131-4a2e-f46b-d486bc728b18"
      },
      "outputs": [
        {
          "name": "stdout",
          "output_type": "stream",
          "text": [
            "      Down  Up\n",
            "Down    23  20\n",
            "Up      33  28\n",
            "\n",
            "Taux derreur = 0.5096153846153846\n"
          ]
        }
      ],
      "source": [
        "## K=3\n",
        "clf = KNeighborsClassifier(n_neighbors=3)\n",
        "clf.fit(X_train, Yt_train)\n",
        "\n",
        "##Prédiction sur données test et matrice de confusion\n",
        "y_predicted = clf.predict(X_test)\n",
        "\n",
        "table = confusion_matrix(Yt_test,y_predicted )\n",
        "print(pd.DataFrame(table, ['Down', 'Up'], ['Down', 'Up']))\n",
        "print('')\n",
        "print('Taux derreur =', 1-(table[0,0]+table[1,1])/np.sum(table))\n"
      ]
    },
    {
      "cell_type": "code",
      "execution_count": null,
      "id": "e747a09c",
      "metadata": {
        "id": "e747a09c",
        "outputId": "be37b4f7-32db-4420-b23d-a91763072288"
      },
      "outputs": [
        {
          "name": "stdout",
          "output_type": "stream",
          "text": [
            "      Down  Up\n",
            "Down    27  16\n",
            "Up      24  37\n",
            "\n",
            "Taux derreur = 0.3846153846153846\n"
          ]
        }
      ],
      "source": [
        "## K=5 \n",
        "clf = KNeighborsClassifier(n_neighbors=5)\n",
        "clf.fit(X_train, Yt_train)\n",
        "\n",
        "##Prédiction sur données test et matrice de confusion\n",
        "y_predicted = clf.predict(X_test)\n",
        "\n",
        "table = confusion_matrix(Yt_test,y_predicted )\n",
        "print(pd.DataFrame(table, ['Down', 'Up'], ['Down', 'Up']))\n",
        "print('')\n",
        "print('Taux derreur =', 1-(table[0,0]+table[1,1])/np.sum(table))\n"
      ]
    },
    {
      "cell_type": "code",
      "execution_count": null,
      "id": "0dbafda1",
      "metadata": {
        "id": "0dbafda1",
        "outputId": "c3e77360-e193-401f-c483-097fa865e11a"
      },
      "outputs": [
        {
          "name": "stdout",
          "output_type": "stream",
          "text": [
            "      Down  Up\n",
            "Down    24  19\n",
            "Up      34  27\n",
            "\n",
            "Taux derreur = 0.5096153846153846\n"
          ]
        }
      ],
      "source": [
        "## K=10\n",
        "clf = KNeighborsClassifier(n_neighbors=10)\n",
        "clf.fit(X_train, Yt_train)\n",
        "\n",
        "##Prédiction sur données test et matrice de confusion\n",
        "y_predicted = clf.predict(X_test)\n",
        "\n",
        "table = confusion_matrix(Yt_test,y_predicted )\n",
        "print(pd.DataFrame(table, ['Down', 'Up'], ['Down', 'Up']))\n",
        "print('')\n",
        "print('Taux derreur =', 1-(table[0,0]+table[1,1])/np.sum(table))\n"
      ]
    },
    {
      "cell_type": "code",
      "execution_count": null,
      "id": "0bf7b02a",
      "metadata": {
        "id": "0bf7b02a",
        "outputId": "3135e804-13a7-49ca-eda4-f24f87270466"
      },
      "outputs": [
        {
          "name": "stdout",
          "output_type": "stream",
          "text": [
            "      Down  Up\n",
            "Down    17  26\n",
            "Up      28  33\n",
            "\n",
            "Taux derreur = 0.5192307692307692\n"
          ]
        }
      ],
      "source": [
        "## K=11\n",
        "clf = KNeighborsClassifier(n_neighbors=11)\n",
        "clf.fit(X_train, Yt_train)\n",
        "\n",
        "##Prédiction sur données test et matrice de confusion\n",
        "y_predicted = clf.predict(X_test)\n",
        "\n",
        "table = confusion_matrix(Yt_test,y_predicted )\n",
        "print(pd.DataFrame(table, ['Down', 'Up'], ['Down', 'Up']))\n",
        "print('')\n",
        "print('Taux derreur =', 1-(table[0,0]+table[1,1])/np.sum(table))\n"
      ]
    },
    {
      "cell_type": "code",
      "execution_count": null,
      "id": "91e34182",
      "metadata": {
        "id": "91e34182"
      },
      "outputs": [],
      "source": [
        "##Apres avoir expérimenté plusieurs valeurs de K, le modèle KNN avec K=5 semble produire le taux d'erreur le plus faible."
      ]
    }
  ],
  "metadata": {
    "kernelspec": {
      "display_name": "Python 3 (ipykernel)",
      "language": "python",
      "name": "python3"
    },
    "language_info": {
      "codemirror_mode": {
        "name": "ipython",
        "version": 3
      },
      "file_extension": ".py",
      "mimetype": "text/x-python",
      "name": "python",
      "nbconvert_exporter": "python",
      "pygments_lexer": "ipython3",
      "version": "3.9.7"
    },
    "colab": {
      "provenance": [],
      "include_colab_link": true
    }
  },
  "nbformat": 4,
  "nbformat_minor": 5
}